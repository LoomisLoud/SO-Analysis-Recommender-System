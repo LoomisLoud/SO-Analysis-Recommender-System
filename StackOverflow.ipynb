{
 "cells": [
  {
   "cell_type": "markdown",
   "metadata": {},
   "source": [
    "### Exploratory\n",
    "Check the distributions of all useful features, outliers, quantiles.\n",
    "\n",
    "### Preprocessing\n",
    "Data cleaning, categorize values, check out their distribution, selecting columns, removing bad values if needed.\n",
    "\n",
    "### Feature extraction\n",
    "PCA to check which are the features explaining the most variance.<br>\n",
    "        \n",
    "### Graph analysis\n",
    "The graph will be built the following way:\n",
    "    - Users will be the nodes\n",
    "    - Correlations (with a threshold) in-between them (or similarity would be better ?) used as edges\n",
    "        \n",
    "### Questions\n",
    "**What's the best developer job like ? (depending on your own definition of \"best\")**\n",
    "\n",
    "Does salary equates to happiness/fulfilment in your job ?<br>\n",
    "For users not satisfied with their job, what should they change to be more satisfied (use closest correlated neighbor) ?<br>\n",
    "How much is Job Satisfaction linked to education ?<br>\n",
    "Are \"gif\" people more satisfied with their job compared to \"jif\" people ?"
   ]
  },
  {
   "cell_type": "code",
   "execution_count": null,
   "metadata": {},
   "outputs": [],
   "source": [
    "import pandas as pd\n",
    "import numpy as np"
   ]
  },
  {
   "cell_type": "code",
   "execution_count": null,
   "metadata": {},
   "outputs": [],
   "source": [
    "stack = pd.read_csv(\"data/survey_results_public.csv\")\n",
    "stack.head()"
   ]
  },
  {
   "cell_type": "code",
   "execution_count": null,
   "metadata": {
    "scrolled": true
   },
   "outputs": [],
   "source": [
    "stack.columns.tolist()"
   ]
  },
  {
   "cell_type": "code",
   "execution_count": null,
   "metadata": {
    "scrolled": true
   },
   "outputs": [],
   "source": [
    "metadata = pd.read_csv(\"data/survey_results_schema.csv\")\n",
    "metadata"
   ]
  }
 ],
 "metadata": {
  "kernelspec": {
   "display_name": "Python 3",
   "language": "python",
   "name": "python3"
  },
  "language_info": {
   "codemirror_mode": {
    "name": "ipython",
    "version": 3
   },
   "file_extension": ".py",
   "mimetype": "text/x-python",
   "name": "python",
   "nbconvert_exporter": "python",
   "pygments_lexer": "ipython3",
   "version": "3.6.3"
  }
 },
 "nbformat": 4,
 "nbformat_minor": 2
}
