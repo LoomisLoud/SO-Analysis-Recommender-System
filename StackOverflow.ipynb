{
 "cells": [
  {
   "cell_type": "markdown",
   "metadata": {},
   "source": [
    "Question\n",
    "========\n",
    "\n",
    "What's the best developer job like ? (depending on your own definition\n",
    "of \\\"best\\\")\n",
    "\n",
    "Dataset\n",
    "=======\n",
    "\n",
    "The dataset provided by [StackOverflow on\n",
    "Kaggle](https://www.kaggle.com/stackoverflow/so-survey-2017/data) seems\n",
    "to be a great start. It contains about fifty thousand answers from a\n",
    "sample of the active StackOverflow population about a lot of questions,\n",
    "namely 154. This means that we would have a tremendous insight into what\n",
    "makes a programmer unique, but also can help us to answer a lot of\n",
    "interesting questions.\n",
    "\n",
    "Project\n",
    "=======\n",
    "\n",
    "Exploratory\n",
    "-----------\n",
    "\n",
    "Check the distributions of all useful features, outliers, quantiles.\n",
    "Questions we could answer with the exploration:\n",
    "\n",
    "-   Does salary equates to happiness/fulfilment in your job ?\n",
    "\n",
    "-   For users not satisfied with their job, what should they change to\n",
    "    be more satisfied (use closest correlated neighbor) ?\n",
    "\n",
    "-   How much is Job Satisfaction linked to education ?\n",
    "\n",
    "-   Are \\\"gif\\\" people more satisfied with their job compared to \\\"jif\\\"\n",
    "    people ?\n",
    "    \n",
    "Metric\n",
    "--------------\n",
    "Derive metric to measure happiness/fulfillment\n",
    "\n",
    "Pre-processing\n",
    "--------------\n",
    "\n",
    "Data cleaning, categorize values, check out their distribution,\n",
    "selecting columns, removing bad values if needed.\n",
    "\n",
    "Feature Extraction\n",
    "------------------\n",
    "\n",
    "PCA to check which are the features explaining the most variance.\n",
    "\n",
    "Graph Analysis\n",
    "--------------\n",
    "\n",
    "The graph will be built the following way:\n",
    "\n",
    "-   Users will be the nodes\n",
    "\n",
    "-   Correlations (with a threshold) in-between users used as edges\n",
    "\n",
    "Recommender System\n",
    "------------------\n",
    "\n",
    "The idea here would be to be able to recommend which of a set of users\n",
    "best represents a set of given goals. To do so, we would simply check\n",
    "which existing node is the closest to the artificial one that we create\n",
    "for the chosen features a recruiter is looking for.\n"
   ]
  },
  {
   "cell_type": "code",
   "execution_count": null,
   "metadata": {
    "collapsed": true
   },
   "outputs": [],
   "source": [
    "%config InlineBackend.figure_format = 'retina'\n",
    "import numpy as np \n",
    "import pandas as pd \n",
    "import seaborn as sns\n",
    "import plotly.plotly as py\n",
    "import plotly.graph_objs as go\n",
    "from plotly import tools\n",
    "from plotly.offline import iplot, init_notebook_mode\n",
    "init_notebook_mode()\n",
    "from subprocess import check_output\n",
    "pd.set_option('display.max_columns', None)"
   ]
  },
  {
   "cell_type": "code",
   "execution_count": null,
   "metadata": {
    "collapsed": true,
    "scrolled": true
   },
   "outputs": [],
   "source": [
    "stack = pd.read_csv(\"data/survey_results_public.csv\")\n",
    "kept_columns = ['Respondent', 'Professional', 'ProgramHobby', 'Country', 'University', 'EmploymentStatus', 'FormalEducation', 'MajorUndergrad', 'CompanySize', 'CompanyType', 'YearsProgram', 'YearsCodedJob', 'DeveloperType', 'WebDeveloperType', 'NonDeveloperType', 'CareerSatisfaction', 'JobSatisfaction', 'PronounceGIF', 'ProblemSolving', 'BuildingThings', 'LearningNewTech', 'BoringDetails', 'JobSecurity', 'DiversityImportant', 'FriendsDevelopers', 'WorkPayCare', 'ChallengeMyself', 'ImportantBenefits', 'ClickyKeys', 'Overpaid', 'TabsSpaces', 'EducationImportant', 'EducationTypes', 'SelfTaughtTypes', 'WorkStart', 'HaveWorkedLanguage', 'WantWorkLanguage', 'IDE', 'AuditoryEnvironment', 'Methodology', 'EquipmentSatisfiedMonitors', 'InfluenceTechStack', 'InfluenceCommunication', 'StackOverflowSatisfaction', 'StackOverflowFoundAnswer', 'StackOverflowCopiedCode', 'StackOverflowWhatDo', 'Gender', 'HighestEducationParents', 'Race', 'Salary']\n",
    "stack = stack[kept_columns]\n",
    "stack.set_index(\"Respondent\", inplace=True)\n",
    "stack.head()"
   ]
  },
  {
   "cell_type": "code",
   "execution_count": null,
   "metadata": {
    "collapsed": true
   },
   "outputs": [],
   "source": [
    "# We filter out the devs upon some criteria\n",
    "def row_filter(row):\n",
    "    # After checking salary values, we decided to remove the first 5%\n",
    "    # quantile as they were mostly outliers (values inbetween 0 and 100)\n",
    "    if row.isnull().Salary or row.Salary < stack.Salary.quantile(0.05):\n",
    "        return False\n",
    "    if row.Professional not in [\"Student\", \n",
    "                                \"Professional developer\", \n",
    "                                \"Professional non-developer who sometimes writes code\"]:\n",
    "        return False\n",
    "    if row.EmploymentStatus not in ['Employed part-time',\n",
    "                                    'Employed full-time',\n",
    "                                    'Independent contractor, freelancer, or self-employed']:\n",
    "        return False\n",
    "    if row.isnull().JobSatisfaction and row.isnull().CareerSatisfaction:\n",
    "        return False\n",
    "    return True\n",
    "    \n",
    "stack = stack[stack.apply(row_filter, axis=1)]"
   ]
  },
  {
   "cell_type": "code",
   "execution_count": null,
   "metadata": {
    "collapsed": true,
    "scrolled": true
   },
   "outputs": [],
   "source": [
    "metadata = pd.read_csv(\"data/survey_results_schema.csv\")\n",
    "metadata"
   ]
  },
  {
   "cell_type": "markdown",
   "metadata": {},
   "source": [
    "# Exploratory Analysis\n",
    "\n",
    "In this section we will explore different columns of our dataframe to have an idea of what the population we have looks like."
   ]
  },
  {
   "cell_type": "code",
   "execution_count": null,
   "metadata": {
    "collapsed": true
   },
   "outputs": [],
   "source": [
    "import matplotlib.pyplot as plt"
   ]
  },
  {
   "cell_type": "markdown",
   "metadata": {},
   "source": [
    "## Professional"
   ]
  },
  {
   "cell_type": "code",
   "execution_count": null,
   "metadata": {
    "collapsed": true
   },
   "outputs": [],
   "source": [
    "stack['Professional'].value_counts()[0:10].plot(kind='bar',figsize=(10,8))\n",
    "plt.show()"
   ]
  },
  {
   "cell_type": "markdown",
   "metadata": {},
   "source": [
    "TODO"
   ]
  },
  {
   "cell_type": "markdown",
   "metadata": {},
   "source": [
    "## Country"
   ]
  },
  {
   "cell_type": "code",
   "execution_count": null,
   "metadata": {
    "collapsed": true
   },
   "outputs": [],
   "source": [
    "stack['Country'].value_counts()[0:10].plot(kind='bar',figsize=(10,8))\n",
    "plt.show()"
   ]
  },
  {
   "cell_type": "markdown",
   "metadata": {},
   "source": [
    "TODO"
   ]
  },
  {
   "cell_type": "markdown",
   "metadata": {},
   "source": [
    "## Employment Status"
   ]
  },
  {
   "cell_type": "code",
   "execution_count": null,
   "metadata": {
    "collapsed": true
   },
   "outputs": [],
   "source": [
    "stack['EmploymentStatus'].value_counts()[0:10].plot(kind='bar',figsize=(10,8))\n",
    "plt.show()"
   ]
  },
  {
   "cell_type": "markdown",
   "metadata": {},
   "source": [
    "TODO"
   ]
  },
  {
   "cell_type": "markdown",
   "metadata": {},
   "source": [
    "## Developer Type"
   ]
  },
  {
   "cell_type": "code",
   "execution_count": null,
   "metadata": {
    "collapsed": true
   },
   "outputs": [],
   "source": [
    "DevTypes = [lang for sublist in [str(langs).replace(\" \", \"\").split(\";\") for langs in stack['DeveloperType']] for lang in sublist]\n",
    "DevTypes = pd.Series(DevTypes)"
   ]
  },
  {
   "cell_type": "code",
   "execution_count": null,
   "metadata": {
    "collapsed": true
   },
   "outputs": [],
   "source": [
    "DevTypes.value_counts()[0:10].plot(kind='bar',figsize=(10,8))\n",
    "plt.show()"
   ]
  },
  {
   "cell_type": "markdown",
   "metadata": {},
   "source": [
    "TODO"
   ]
  },
  {
   "cell_type": "markdown",
   "metadata": {},
   "source": [
    "## Career Statisfaction"
   ]
  },
  {
   "cell_type": "code",
   "execution_count": null,
   "metadata": {
    "collapsed": true
   },
   "outputs": [],
   "source": [
    "carrSat = stack['CareerSatisfaction']/stack['CareerSatisfaction'].max()"
   ]
  },
  {
   "cell_type": "code",
   "execution_count": null,
   "metadata": {
    "collapsed": true
   },
   "outputs": [],
   "source": [
    "carrSat.value_counts().sort_index().plot(kind='bar',figsize=(10,8))\n",
    "plt.show()"
   ]
  },
  {
   "cell_type": "code",
   "execution_count": null,
   "metadata": {
    "collapsed": true
   },
   "outputs": [],
   "source": []
  },
  {
   "cell_type": "markdown",
   "metadata": {},
   "source": [
    "## GIF vs JIF"
   ]
  },
  {
   "cell_type": "code",
   "execution_count": null,
   "metadata": {
    "collapsed": true,
    "scrolled": true
   },
   "outputs": [],
   "source": [
    "import matplotlib.pyplot as plt\n",
    "temp = stack[[\"PronounceGIF\", \"Salary\"]].dropna(how='any')\n",
    "temp = temp.set_index(\"PronounceGIF\")\n",
    "gif = temp.loc['With a hard \"g,\" like \"gift\"'].Salary.values\n",
    "jif = temp.loc['With a soft \"g,\" like \"jiff\"'].Salary.values\n",
    "tr = pd.DataFrame()\n",
    "tr['gif'] = pd.Series(gif)\n",
    "filling = np.empty((6081))\n",
    "filling[:] = np.nan\n",
    "to_add = np.append(jif, filling)\n",
    "tr['jif'] = pd.Series(to_add)\n",
    "plot = sns.boxplot(data=tr, orient=\"v\",)\n",
    "plt.ylabel(\"Salary\")\n",
    "plt.title(\"Distribution of salary for the gif and jif populations\")\n",
    "plt.show()\n",
    "\n",
    "print(tr.describe())"
   ]
  }
 ],
 "metadata": {
  "anaconda-cloud": {},
  "kernelspec": {
   "display_name": "Python 3",
   "language": "python",
   "name": "python3"
  },
  "language_info": {
   "codemirror_mode": {
    "name": "ipython",
    "version": 3
   },
   "file_extension": ".py",
   "mimetype": "text/x-python",
   "name": "python",
   "nbconvert_exporter": "python",
   "pygments_lexer": "ipython3",
   "version": "3.6.2"
  }
 },
 "nbformat": 4,
 "nbformat_minor": 2
}
